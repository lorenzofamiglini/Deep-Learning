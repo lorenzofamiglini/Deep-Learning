{
  "nbformat": 4,
  "nbformat_minor": 0,
  "metadata": {
    "colab": {
      "name": "Lorenzo_Famiglini_838675_source.ipynb",
      "provenance": [],
      "collapsed_sections": []
    },
    "kernelspec": {
      "name": "python3",
      "display_name": "Python 3"
    },
    "accelerator": "GPU"
  },
  "cells": [
    {
      "cell_type": "code",
      "metadata": {
        "id": "1Sj0zvvqgDHJ",
        "colab_type": "code",
        "outputId": "050dd275-0983-4647-b0d8-d66149974936",
        "colab": {
          "base_uri": "https://localhost:8080/",
          "height": 81
        }
      },
      "source": [
        "import pandas as pd\n",
        "import keras as ks\n",
        "import numpy as np\n",
        "import matplotlib.pyplot as plt\n",
        "from keras.models import Sequential\n",
        "from keras.layers import Dense\n",
        "from keras.utils import to_categorical\n",
        "import pickle\n",
        "from google.colab import drive\n",
        "from keras.utils import np_utils\n",
        "from sklearn.preprocessing import LabelEncoder\n",
        "import warnings\n",
        "from keras.layers import Conv2D, Flatten, Dropout,MaxPooling2D\n",
        "warnings.filterwarnings(\"ignore\")\n",
        "from keras.callbacks import History\n",
        "from keras import optimizers\n",
        "from keras.callbacks import EarlyStopping\n",
        "from sklearn.metrics import classification_report"
      ],
      "execution_count": 1,
      "outputs": [
        {
          "output_type": "stream",
          "text": [
            "Using TensorFlow backend.\n"
          ],
          "name": "stderr"
        },
        {
          "output_type": "display_data",
          "data": {
            "text/html": [
              "<p style=\"color: red;\">\n",
              "The default version of TensorFlow in Colab will soon switch to TensorFlow 2.x.<br>\n",
              "We recommend you <a href=\"https://www.tensorflow.org/guide/migrate\" target=\"_blank\">upgrade</a> now \n",
              "or ensure your notebook will continue to use TensorFlow 1.x via the <code>%tensorflow_version 1.x</code> magic:\n",
              "<a href=\"https://colab.research.google.com/notebooks/tensorflow_version.ipynb\" target=\"_blank\">more info</a>.</p>\n"
            ],
            "text/plain": [
              "<IPython.core.display.HTML object>"
            ]
          },
          "metadata": {
            "tags": []
          }
        }
      ]
    },
    {
      "cell_type": "code",
      "metadata": {
        "id": "RGrcgNjPgJd6",
        "colab_type": "code",
        "outputId": "eceabee2-3974-4553-f3e9-e6885775df6f",
        "colab": {
          "base_uri": "https://localhost:8080/",
          "height": 124
        }
      },
      "source": [
        "drive.mount('/content/drive')"
      ],
      "execution_count": 2,
      "outputs": [
        {
          "output_type": "stream",
          "text": [
            "Go to this URL in a browser: https://accounts.google.com/o/oauth2/auth?client_id=947318989803-6bn6qk8qdgf4n4g3pfee6491hc0brc4i.apps.googleusercontent.com&redirect_uri=urn%3Aietf%3Awg%3Aoauth%3A2.0%3Aoob&scope=email%20https%3A%2F%2Fwww.googleapis.com%2Fauth%2Fdocs.test%20https%3A%2F%2Fwww.googleapis.com%2Fauth%2Fdrive%20https%3A%2F%2Fwww.googleapis.com%2Fauth%2Fdrive.photos.readonly%20https%3A%2F%2Fwww.googleapis.com%2Fauth%2Fpeopleapi.readonly&response_type=code\n",
            "\n",
            "Enter your authorization code:\n",
            "··········\n",
            "Mounted at /content/drive\n"
          ],
          "name": "stdout"
        }
      ]
    },
    {
      "cell_type": "code",
      "metadata": {
        "id": "pOu1tB-whBW-",
        "colab_type": "code",
        "colab": {}
      },
      "source": [
        "x_train = \"/content/drive/My Drive/Dataset/x_train.obj\"\n",
        "x_test = \"/content/drive/My Drive/Dataset/x_test.obj\"\n",
        "y_train = \"/content/drive/My Drive/Dataset/y_train.obj\""
      ],
      "execution_count": 0,
      "outputs": []
    },
    {
      "cell_type": "markdown",
      "metadata": {
        "id": "MucvpnFK5Vj3",
        "colab_type": "text"
      },
      "source": [
        "## Classification Task with a Full connected NN"
      ]
    },
    {
      "cell_type": "code",
      "metadata": {
        "id": "7YyJiOYdkYmo",
        "colab_type": "code",
        "colab": {}
      },
      "source": [
        "with open(\"/content/drive/My Drive/Dataset/x_train.obj\", 'rb') as x_train:\n",
        "  x_train = pickle.load(x_train)\n",
        "with open(\"/content/drive/My Drive/Dataset/x_test.obj\", 'rb') as x_test:\n",
        "  x_test = pickle.load(x_test)\n",
        "with open(\"/content/drive/My Drive/Dataset/y_train.obj\", 'rb') as y_train:\n",
        "  y_train = pickle.load(y_train)"
      ],
      "execution_count": 0,
      "outputs": []
    },
    {
      "cell_type": "code",
      "metadata": {
        "id": "At0iLqQGnZos",
        "colab_type": "code",
        "outputId": "15715079-cc42-4111-a9d5-99cade8c8ef3",
        "colab": {
          "base_uri": "https://localhost:8080/",
          "height": 86
        }
      },
      "source": [
        "print(\"Numero totale di proprietà: \"+str(x_train.shape[1]))\n",
        "print(\"Esempi di training: \"+str(x_train.shape[0]))\n",
        "print(\"Esempi di test: \"+str(x_test.shape[0]))\n",
        "print(\"Livelli variabile target: \" + str(y_train.shape[0]))"
      ],
      "execution_count": 5,
      "outputs": [
        {
          "output_type": "stream",
          "text": [
            "Numero totale di proprietà: 28\n",
            "Esempi di training: 14000\n",
            "Esempi di test: 8800\n",
            "Livelli variabile target: 14000\n"
          ],
          "name": "stdout"
        }
      ]
    },
    {
      "cell_type": "code",
      "metadata": {
        "id": "XWJcqPibpTOx",
        "colab_type": "code",
        "colab": {}
      },
      "source": [
        "from sklearn.model_selection import train_test_split\n",
        "x_train, x_val, y_train, y_val = train_test_split(x_train, y_train,stratify=y_train, test_size=0.20)"
      ],
      "execution_count": 0,
      "outputs": []
    },
    {
      "cell_type": "code",
      "metadata": {
        "id": "DVPK_daMoRv9",
        "colab_type": "code",
        "colab": {}
      },
      "source": [
        "#Data normalization: \n",
        "X_train = x_train/255\n",
        "X_val = x_val/255\n",
        "X_test = x_test/255"
      ],
      "execution_count": 0,
      "outputs": []
    },
    {
      "cell_type": "code",
      "metadata": {
        "id": "rNaXtAvVySpl",
        "colab_type": "code",
        "colab": {}
      },
      "source": [
        "from imblearn.over_sampling import SMOTE\n",
        "X_train, y_train = SMOTE().fit_resample(X_train.reshape(X_train.shape[0],28*28), y_train)"
      ],
      "execution_count": 0,
      "outputs": []
    },
    {
      "cell_type": "code",
      "metadata": {
        "id": "EglT_MVrZtVD",
        "colab_type": "code",
        "colab": {}
      },
      "source": [
        "#X_train = X_train.reshape(X_train.shape[0],28*28)\n",
        "X_test = X_test.reshape(X_test.shape[0],28*28)\n",
        "X_val = X_val.reshape(X_val.shape[0], 28*28)\n",
        "labels = [\"P\",\"Q\",\"R\",\"S\",\"T\",\"U\",\"V\",\"W\",\"X\",\"Y\",\"Z\"]\n",
        "encoder = LabelEncoder()\n",
        "encoder.fit(y_train)\n",
        "Y_train = encoder.transform(y_train)\n",
        "dummy_y = np_utils.to_categorical(Y_train)\n",
        "Y_val = encoder.transform(y_val)\n",
        "dummy_val = np_utils.to_categorical(Y_val)"
      ],
      "execution_count": 0,
      "outputs": []
    },
    {
      "cell_type": "code",
      "metadata": {
        "id": "MU7sFcZ8vVcf",
        "colab_type": "code",
        "outputId": "756e22e8-1fe9-4dfd-af05-5715361c2d81",
        "colab": {
          "base_uri": "https://localhost:8080/",
          "height": 35
        }
      },
      "source": [
        "np.unique(np.argmax(dummy_val, axis = 1))"
      ],
      "execution_count": 31,
      "outputs": [
        {
          "output_type": "execute_result",
          "data": {
            "text/plain": [
              "array([ 0,  1,  2,  3,  4,  5,  6,  7,  8,  9, 10])"
            ]
          },
          "metadata": {
            "tags": []
          },
          "execution_count": 31
        }
      ]
    },
    {
      "cell_type": "markdown",
      "metadata": {
        "id": "kYlnfihbA1sL",
        "colab_type": "text"
      },
      "source": [
        ""
      ]
    },
    {
      "cell_type": "code",
      "metadata": {
        "id": "Klh61HNzh7QW",
        "colab_type": "code",
        "colab": {}
      },
      "source": [
        "from keras.layers.normalization import BatchNormalization\n",
        "from keras.regularizers import l1_l2\n",
        "from keras import optimizers\n",
        "from keras import regularizers\n",
        "from keras.layers import LeakyReLU\n",
        "sgd = optimizers.SGD(lr=0.1, decay=1e-4, momentum=0.9, nesterov=True)\n",
        "hidd1 = [256,512,1024]\n",
        "hidd2 = [128,256,512,1024]\n",
        "hidd3 = [128,256,512]\n",
        "funct_act = [\"relu\",\"tanh\"]\n",
        "funct_act2 = [\"relu\",\"tanh\"]\n",
        "lr = [0.01]\n",
        "diz2 = {}\n",
        "diz = {}\n",
        "new_acc = 0\n",
        "neurons = []\n",
        "val = 0\n",
        "restart = 0\n",
        "conta = 0\n",
        "for i in hidd1:\n",
        "   for j in hidd2:\n",
        "      for q in hidd3:\n",
        "        for x in lr:\n",
        "              sgd = optimizers.SGD(lr=x, decay=1e-4, momentum=0.9, nesterov=True)\n",
        "              history2 = History()\n",
        "              model2 = Sequential()\n",
        "              model2.add(Dense(i, input_dim=X_train.shape[1],activation = \"relu\", kernel_regularizer=l1_l2(l1 = 0.00001, l2=0.0001)))\n",
        "              if i == 64:\n",
        "                model2.add(Dropout(0.3))\n",
        "              elif j >= 128:\n",
        "                model2.add(Dropout(0.5))\n",
        "              model2.add(Dense(j,activation = \"relu\", kernel_regularizer=l1_l2(l1 = 0.0001, l2=0.001)))\n",
        "              if j == 64:\n",
        "                model2.add(Dropout(0.3))\n",
        "              elif j >= 128:\n",
        "                model2.add(Dropout(0.5))\n",
        "              model2.add(Dense(q,activation = \"relu\", kernel_regularizer=l1_l2(l1 = 0.0001, l2=0.001)))\n",
        "              if q == 64:\n",
        "                model2.add(Dropout(0.3))\n",
        "              elif q >= 128:\n",
        "                model2.add(Dropout(0.5))\n",
        "              model2.add(Dense(11, activation=\"softmax\"))\n",
        "              es = EarlyStopping(monitor='val_loss', patience=10, verbose=0)\n",
        "              model2.compile(loss='categorical_crossentropy',optimizer = sgd, metrics=['accuracy'])\n",
        "              model2.fit(X_train, dummy_y, epochs=150, batch_size=512, callbacks=[history2],validation_data=(X_val,dummy_val), verbose=0)\n",
        "              y_pred_mod2 = model2.predict_classes(X_val)\n",
        "              acc_val = model2.evaluate(X_val, dummy_val, verbose = 0)[1]\n",
        "              acc_train = model2.evaluate(X_train, dummy_y, verbose = 0)[1]\n",
        "              if acc_val > val:\n",
        "                diz[\"neurons\"] = [i,j,q]\n",
        "                diz[\"lr\"] = x\n",
        "                diz[\"validation_acc\"]= acc_val\n",
        "                diz[\"train_acc\"] = acc_train\n",
        "                diz2[\"sol{0}\".format(conta)] = diz\n",
        "                diz = {}\n",
        "                conta = conta + 1\n",
        "                val = acc_val\n",
        "              print(\"Train accuracy: \"+str(acc_train)+\", Val accuracy: \"+str(acc_val))\n",
        "              print(\"Numero di neuroni usati in ordine di strato: \" + \"[\"+ str(i),str(j),str(q)+\"]\")\n",
        "              print(\"Learning rate: \", str(x))\n",
        "              print(classification_report(np.argmax(dummy_val, axis = 1), y_pred_mod2))"
      ],
      "execution_count": 0,
      "outputs": []
    },
    {
      "cell_type": "code",
      "metadata": {
        "id": "igUi4ZAAPN_c",
        "colab_type": "code",
        "outputId": "8a4523fc-24d3-4f03-faaa-d6f1615214da",
        "colab": {
          "base_uri": "https://localhost:8080/",
          "height": 55
        }
      },
      "source": [
        "print(diz2)"
      ],
      "execution_count": 0,
      "outputs": [
        {
          "output_type": "stream",
          "text": [
            "{'sol0': {'neurons': [256, 128, 128], 'lr': 0.01, 'validation_acc': 0.9188095238095239, 'train_acc': 0.9817602779386219}, 'sol1': {'neurons': [256, 128, 256], 'lr': 0.01, 'validation_acc': 0.9247619047619048, 'train_acc': 0.9816637714726887}, 'sol2': {'neurons': [256, 256, 128], 'lr': 0.01, 'validation_acc': 0.9295238095238095, 'train_acc': 0.9804091874155568}, 'sol3': {'neurons': [512, 128, 128], 'lr': 0.01, 'validation_acc': 0.9297619047619048, 'train_acc': 0.9871646400308821}, 'sol4': {'neurons': [512, 128, 256], 'lr': 0.01, 'validation_acc': 0.9328571428571428, 'train_acc': 0.9883227176220807}, 'sol5': {'neurons': [1024, 128, 128], 'lr': 0.01, 'validation_acc': 0.9369047619047619, 'train_acc': 0.9909283922022776}, 'sol6': {'neurons': [1024, 128, 256], 'lr': 0.01, 'validation_acc': 0.9373809523809524, 'train_acc': 0.9921829762594094}}\n"
          ],
          "name": "stdout"
        }
      ]
    },
    {
      "cell_type": "code",
      "metadata": {
        "id": "ZWBsNSXTv2tF",
        "colab_type": "code",
        "colab": {}
      },
      "source": [
        "from keras.regularizers import l1_l2\n",
        "from keras import optimizers\n",
        "from keras import regularizers\n",
        "from keras.layers import LeakyReLU\n",
        "from keras.initializers import glorot_normal\n",
        "from keras import optimizers\n",
        "from keras.callbacks import ModelCheckpoint\n",
        "from keras.layers.normalization import BatchNormalization\n",
        "warnings.filterwarnings(\"ignore\")\n",
        "dec = [1e-3,1e-4,1e-5,1e-6]\n",
        "drop = [0.3,0.4,0.45,0.5,0.55,0.6,0.65]\n",
        "fBestModel = 'weights-improvement-{epoch:02d}-{val_loss:.2f}.hdf5' \n",
        "best_model = ModelCheckpoint(fBestModel, verbose=0, save_best_only=True)\n",
        "sgd = optimizers.SGD(lr=0.1, decay=1e-3, momentum=0.9, nesterov=True)\n",
        "history2 = History()\n",
        "model2 = Sequential()\n",
        "model2.add(Dense(256, input_dim=X_train.shape[1], activation =\"relu\", kernel_regularizer=l1_l2(l1 = 0.0001, l2=0.001), kernel_initializer = glorot_normal()))\n",
        "model2.add(Dropout(0.5))\n",
        "model2.add(Dense(128,kernel_initializer = glorot_normal(),kernel_regularizer=l1_l2(l1 = 0.0001, l2=0.001), activation =\"relu\"))\n",
        "model2.add(Dropout(0.5))\n",
        "model2.add(Dense(11, activation=\"softmax\"))\n",
        "es = EarlyStopping(monitor='val_loss', patience=40, verbose=0)\n",
        "model2.compile(loss='categorical_crossentropy',optimizer = sgd, metrics=['accuracy'])\n",
        "model2.fit(X_train, dummy_y, epochs=200, batch_size=512, callbacks=[history2, es, best_model],validation_data=(X_val,dummy_val), verbose=1)\n",
        "acc_val = model2.evaluate(X_val, dummy_val, verbose = 0)\n",
        "acc_train = model2.evaluate(X_train, dummy_y, verbose = 0)\n",
        "y_pred_mod2 = model2.predict_classes(X_val)\n",
        "#print(classification_report(np.argmax(dummy_val, axis = 1), y_pred_mod2))"
      ],
      "execution_count": 0,
      "outputs": []
    },
    {
      "cell_type": "code",
      "metadata": {
        "id": "SVhlAdpWswyP",
        "colab_type": "code",
        "colab": {
          "base_uri": "https://localhost:8080/",
          "height": 35
        },
        "outputId": "3a2d7781-cf2f-4a31-e978-3d2d7ed16477"
      },
      "source": [
        "model2.load_weights('/content/drive/My Drive/best_model2.h5')\n",
        "acc_val = model2.evaluate(X_val, dummy_val, verbose = 0)\n",
        "acc_train = model2.evaluate(X_train, dummy_y, verbose = 0)\n",
        "print(acc_val,acc_train)\n",
        "#model2.save_weights('best_model2.h5')"
      ],
      "execution_count": 15,
      "outputs": [
        {
          "output_type": "stream",
          "text": [
            "[0.32247017758233204, 0.9775] [0.31865122833437703, 0.9767029627753862]\n"
          ],
          "name": "stdout"
        }
      ]
    },
    {
      "cell_type": "code",
      "metadata": {
        "id": "cO2IUCSv-0SQ",
        "colab_type": "code",
        "colab": {}
      },
      "source": [
        "y_pred_mod2 = model2.predict_classes(X_train)\n",
        "c = classification_report(np.argmax(dummy_y, axis = 1), y_pred_mod2)"
      ],
      "execution_count": 0,
      "outputs": []
    },
    {
      "cell_type": "code",
      "metadata": {
        "id": "VroeraVExOJV",
        "colab_type": "code",
        "outputId": "c829b935-4383-4dca-fdef-1da13919bd3b",
        "colab": {
          "base_uri": "https://localhost:8080/",
          "height": 328
        }
      },
      "source": [
        " d = print(c)"
      ],
      "execution_count": 17,
      "outputs": [
        {
          "output_type": "stream",
          "text": [
            "              precision    recall  f1-score   support\n",
            "\n",
            "           0       0.98      0.98      0.98      1077\n",
            "           1       0.97      0.97      0.97      1077\n",
            "           2       0.98      0.97      0.98      1077\n",
            "           3       0.99      0.99      0.99      1077\n",
            "           4       0.98      0.99      0.98      1077\n",
            "           5       0.95      0.97      0.96      1077\n",
            "           6       0.93      0.96      0.95      1077\n",
            "           7       0.99      0.98      0.99      1077\n",
            "           8       1.00      0.97      0.98      1077\n",
            "           9       0.97      0.95      0.96      1077\n",
            "          10       0.99      0.99      0.99      1077\n",
            "\n",
            "    accuracy                           0.98     11847\n",
            "   macro avg       0.98      0.98      0.98     11847\n",
            "weighted avg       0.98      0.98      0.98     11847\n",
            "\n"
          ],
          "name": "stdout"
        }
      ]
    },
    {
      "cell_type": "code",
      "metadata": {
        "id": "dKg69LgllGcN",
        "colab_type": "code",
        "colab": {}
      },
      "source": [
        "d"
      ],
      "execution_count": 0,
      "outputs": []
    },
    {
      "cell_type": "code",
      "metadata": {
        "id": "u7iX9inq9ywF",
        "colab_type": "code",
        "colab": {}
      },
      "source": [
        "predictions = model2.predict(X_test).argmax(axis=-1)+np.array([16])"
      ],
      "execution_count": 0,
      "outputs": []
    },
    {
      "cell_type": "code",
      "metadata": {
        "id": "HQ0ya39ODKZl",
        "colab_type": "code",
        "colab": {}
      },
      "source": [
        "#np.savetxt('/content/drive/My Drive/Lorenzo_Famiglini_838675_score2_2.txt', predictions, fmt='%i')"
      ],
      "execution_count": 0,
      "outputs": []
    },
    {
      "cell_type": "code",
      "metadata": {
        "id": "cgbwi1CTIJw3",
        "colab_type": "code",
        "colab": {
          "base_uri": "https://localhost:8080/",
          "height": 35
        },
        "outputId": "33c40761-7b58-4c60-fcc5-8f67aaef5aad"
      },
      "source": [
        "model2.predict(X_test).argmax(axis=-1)[1010:1020]"
      ],
      "execution_count": 511,
      "outputs": [
        {
          "output_type": "execute_result",
          "data": {
            "text/plain": [
              "array([ 7, 10,  5,  1, 10,  6, 10,  4,  6,  7])"
            ]
          },
          "metadata": {
            "tags": []
          },
          "execution_count": 511
        }
      ]
    },
    {
      "cell_type": "code",
      "metadata": {
        "id": "KfrlIjSR9-_d",
        "colab_type": "code",
        "colab": {
          "base_uri": "https://localhost:8080/",
          "height": 35
        },
        "outputId": "a866b7ea-e534-47ba-baab-95d136808dc9"
      },
      "source": [
        "np.unique(model2.predict(X_test).argmax(axis=-1))"
      ],
      "execution_count": 509,
      "outputs": [
        {
          "output_type": "execute_result",
          "data": {
            "text/plain": [
              "array([ 0,  1,  2,  3,  4,  5,  6,  7,  8,  9, 10])"
            ]
          },
          "metadata": {
            "tags": []
          },
          "execution_count": 509
        }
      ]
    },
    {
      "cell_type": "code",
      "metadata": {
        "id": "5FmDqc5W9ytG",
        "colab_type": "code",
        "colab": {
          "base_uri": "https://localhost:8080/",
          "height": 118
        },
        "outputId": "19810234-c998-4c3b-846f-d0f756317d92"
      },
      "source": [
        "plt.figure(figsize=(40, 4))\n",
        "for i in range(10):\n",
        "    # display original\n",
        "    ax = plt.subplot(3, 20, i+1)\n",
        "    plt.imshow(X_test[i+1010].reshape(28, 28))\n",
        "    plt.gray()\n",
        "    ax.get_xaxis().set_visible(False)\n",
        "    ax.get_yaxis().set_visible(False)\n",
        "plt.show()"
      ],
      "execution_count": 512,
      "outputs": [
        {
          "output_type": "display_data",
          "data": {
            "image/png": "[encoded data removed]",
            "text/plain": [
              "<Figure size 2880x288 with 10 Axes>"
            ]
          },
          "metadata": {
            "tags": []
          }
        }
      ]
    },
    {
      "cell_type": "code",
      "metadata": {
        "id": "MJsgG3nm9yqK",
        "colab_type": "code",
        "colab": {
          "base_uri": "https://localhost:8080/",
          "height": 138
        },
        "outputId": "061f83f4-18fa-455c-d856-426738f386a7"
      },
      "source": [
        "dummy_val"
      ],
      "execution_count": 427,
      "outputs": [
        {
          "output_type": "execute_result",
          "data": {
            "text/plain": [
              "array([[0., 1., 0., ..., 0., 0., 0.],\n",
              "       [0., 0., 0., ..., 1., 0., 0.],\n",
              "       [0., 0., 0., ..., 0., 0., 0.],\n",
              "       ...,\n",
              "       [0., 0., 0., ..., 0., 0., 0.],\n",
              "       [0., 0., 0., ..., 1., 0., 0.],\n",
              "       [1., 0., 0., ..., 0., 0., 0.]], dtype=float32)"
            ]
          },
          "metadata": {
            "tags": []
          },
          "execution_count": 427
        }
      ]
    },
    {
      "cell_type": "code",
      "metadata": {
        "id": "Uas1qlxQ8Fx-",
        "colab_type": "code",
        "outputId": "5ab30614-a66f-4aa9-f883-7f3436bf586f",
        "colab": {
          "base_uri": "https://localhost:8080/",
          "height": 35
        }
      },
      "source": [
        "from google.colab import drive\n",
        "drive.mount('/content/drive')"
      ],
      "execution_count": 0,
      "outputs": [
        {
          "output_type": "stream",
          "text": [
            "Mounted at /content/drive\n"
          ],
          "name": "stdout"
        }
      ]
    },
    {
      "cell_type": "code",
      "metadata": {
        "id": "EAphQIJFaGEl",
        "colab_type": "code",
        "outputId": "872f8239-8c36-4a96-e74f-e0013c5b571e",
        "colab": {
          "base_uri": "https://localhost:8080/",
          "height": 295
        }
      },
      "source": [
        "#Plot accuracy\n",
        "axes = plt.axes()\n",
        "axes.set_ylim([0,1])\n",
        "plt.plot(history2.history['acc'])\n",
        "plt.plot(history2.history['val_acc'])\n",
        "plt.title('model accuracy')\n",
        "plt.ylabel('accuracy')\n",
        "plt.xlabel('epoch')\n",
        "plt.legend(['train', 'val'], loc='upper left')\n",
        "plt.savefig('model_acc.png')"
      ],
      "execution_count": 26,
      "outputs": [
        {
          "output_type": "display_data",
          "data": {
            "image/png": "[encoded data removed]",
            "text/plain": [
              "<Figure size 432x288 with 1 Axes>"
            ]
          },
          "metadata": {
            "tags": []
          }
        }
      ]
    },
    {
      "cell_type": "code",
      "metadata": {
        "id": "JUyDqZniaFys",
        "colab_type": "code",
        "outputId": "96ecaf98-a2c9-43bd-df51-364b2a3d0426",
        "colab": {
          "base_uri": "https://localhost:8080/",
          "height": 295
        }
      },
      "source": [
        "#Plot loss\n",
        "axes = plt.axes()\n",
        "axes.set_ylim([0.2,3.2])\n",
        "plt.plot(history2.history['loss'])\n",
        "plt.plot(history2.history['val_loss'])\n",
        "plt.title('model loss')\n",
        "plt.ylabel('loss')\n",
        "plt.xlabel('epoch')\n",
        "plt.legend(['train', 'test'], loc='upper left')\n",
        "plt.savefig('loss_model.png')"
      ],
      "execution_count": 32,
      "outputs": [
        {
          "output_type": "display_data",
          "data": {
            "image/png": "[encoded data removed]",
            "text/plain": [
              "<Figure size 432x288 with 1 Axes>"
            ]
          },
          "metadata": {
            "tags": []
          }
        }
      ]
    },
    {
      "cell_type": "code",
      "metadata": {
        "id": "nmfZ2vXIq5_D",
        "colab_type": "code",
        "outputId": "43c63489-3dd6-4c7a-b2c4-b782195eadd9",
        "colab": {
          "base_uri": "https://localhost:8080/",
          "height": 282
        }
      },
      "source": [
        "#Visualizzazione lettere \n",
        "plt.imshow(X_train[36].reshape([28,28]), cmap=\"gray\")\n",
        "plt.axis('off') # rimuoviamo i valori sulle assi \n",
        "print(\"La cifra nell'immagine è un %d\" % y_train[36])"
      ],
      "execution_count": 0,
      "outputs": [
        {
          "output_type": "stream",
          "text": [
            "La cifra nell'immagine è un 16\n"
          ],
          "name": "stdout"
        },
        {
          "output_type": "display_data",
          "data": {
            "image/png": "[encoded data removed]",
            "text/plain": [
              "<Figure size 432x288 with 1 Axes>"
            ]
          },
          "metadata": {
            "tags": []
          }
        }
      ]
    },
    {
      "cell_type": "markdown",
      "metadata": {
        "id": "gQe8Cmua5hC6",
        "colab_type": "text"
      },
      "source": [
        "## AUTOENCODER TASK:"
      ]
    },
    {
      "cell_type": "code",
      "metadata": {
        "id": "6FKmxj-y5kdH",
        "colab_type": "code",
        "colab": {}
      },
      "source": [
        "with open(\"/content/drive/My Drive/Dataset/x_train.obj\", 'rb') as x_train:\n",
        "  x_train = pickle.load(x_train)\n",
        "with open(\"/content/drive/My Drive/Dataset/x_test.obj\", 'rb') as x_test:\n",
        "  x_test = pickle.load(x_test)\n",
        "with open(\"/content/drive/My Drive/Dataset/y_train.obj\", 'rb') as y_train:\n",
        "  y_train = pickle.load(y_train)"
      ],
      "execution_count": 0,
      "outputs": []
    },
    {
      "cell_type": "code",
      "metadata": {
        "id": "tLltZygf5pS3",
        "colab_type": "code",
        "colab": {}
      },
      "source": [
        "from sklearn.model_selection import train_test_split\n",
        "x_train, x_val, y_train, y_val = train_test_split(x_train, y_train,stratify=y_train, test_size=0.30)"
      ],
      "execution_count": 0,
      "outputs": []
    },
    {
      "cell_type": "code",
      "metadata": {
        "id": "tLUoCops5pQR",
        "colab_type": "code",
        "colab": {}
      },
      "source": [
        "#Data normalization: \n",
        "X_train = x_train/255\n",
        "X_val = x_val/255\n",
        "X_test = x_test/255"
      ],
      "execution_count": 0,
      "outputs": []
    },
    {
      "cell_type": "code",
      "metadata": {
        "id": "LUYJXkpU5pOR",
        "colab_type": "code",
        "colab": {}
      },
      "source": [
        "from imblearn.over_sampling import SMOTE\n",
        "X_train, y_train = SMOTE().fit_resample(X_train.reshape(X_train.shape[0],28*28), y_train)"
      ],
      "execution_count": 0,
      "outputs": []
    },
    {
      "cell_type": "code",
      "metadata": {
        "id": "b5RNAfzC5pKx",
        "colab_type": "code",
        "colab": {}
      },
      "source": [
        "X_val = X_val.reshape(X_val.shape[0], 28*28)"
      ],
      "execution_count": 0,
      "outputs": []
    },
    {
      "cell_type": "code",
      "metadata": {
        "id": "qcN_e58t5pIu",
        "colab_type": "code",
        "colab": {}
      },
      "source": [
        "from keras.layers import Input\n",
        "from keras.models import Model\n",
        "input_img= Input(shape=(784,))"
      ],
      "execution_count": 0,
      "outputs": []
    },
    {
      "cell_type": "code",
      "metadata": {
        "id": "K6izvMmq5pGU",
        "colab_type": "code",
        "colab": {}
      },
      "source": [
        "from keras import regularizers\n",
        "input_img = Input(shape=(784,))\n",
        "encoded = Dense(256, activation='relu')(input_img)\n",
        "encoded = Dense(128, activation='relu')(encoded)\n",
        "decoded = Dense(256, activation='relu')(encoded)\n",
        "decoded = Dense(784, activation='sigmoid')(decoded)\n",
        "encoder = Model(input_img, encoded)\n",
        "decoder = Model(input_img,decoded)"
      ],
      "execution_count": 0,
      "outputs": []
    },
    {
      "cell_type": "code",
      "metadata": {
        "id": "GFbVG3bt5pDe",
        "colab_type": "code",
        "outputId": "8b4e3083-8ebc-4e7d-b063-9483f37e3149",
        "colab": {
          "base_uri": "https://localhost:8080/",
          "height": 35
        }
      },
      "source": [
        "autoencoder = Model(input_img, decoded)\n",
        "sgd = optimizers.SGD(lr=0.1, decay=1e-4, momentum=0.9, nesterov=True)\n",
        "autoencoder.compile(optimizer=sgd, loss='binary_crossentropy', metrics=['mae'])\n",
        "autoencoder.fit(X_train,X_train,\n",
        "                epochs=200,\n",
        "                batch_size=512,\n",
        "                shuffle=False,\n",
        "                validation_data=(X_val, X_val),verbose = 0)"
      ],
      "execution_count": 70,
      "outputs": [
        {
          "output_type": "execute_result",
          "data": {
            "text/plain": [
              "<keras.callbacks.History at 0x7f185c6e5128>"
            ]
          },
          "metadata": {
            "tags": []
          },
          "execution_count": 70
        }
      ]
    },
    {
      "cell_type": "code",
      "metadata": {
        "id": "zlUbz1K_5o-Y",
        "colab_type": "code",
        "outputId": "63603a84-66a4-419f-e8e4-a4acae12ee9f",
        "colab": {
          "base_uri": "https://localhost:8080/",
          "height": 328
        }
      },
      "source": [
        "encoded_imgs = encoder.predict(X_val)\n",
        "predicted = autoencoder.predict(X_val)\n",
        "autoencoder.summary()"
      ],
      "execution_count": 71,
      "outputs": [
        {
          "output_type": "stream",
          "text": [
            "Model: \"model_13\"\n",
            "_________________________________________________________________\n",
            "Layer (type)                 Output Shape              Param #   \n",
            "=================================================================\n",
            "input_6 (InputLayer)         (None, 784)               0         \n",
            "_________________________________________________________________\n",
            "dense_31 (Dense)             (None, 256)               200960    \n",
            "_________________________________________________________________\n",
            "dense_32 (Dense)             (None, 128)               32896     \n",
            "_________________________________________________________________\n",
            "dense_33 (Dense)             (None, 256)               33024     \n",
            "_________________________________________________________________\n",
            "dense_34 (Dense)             (None, 784)               201488    \n",
            "=================================================================\n",
            "Total params: 468,368\n",
            "Trainable params: 468,368\n",
            "Non-trainable params: 0\n",
            "_________________________________________________________________\n"
          ],
          "name": "stdout"
        }
      ]
    },
    {
      "cell_type": "code",
      "metadata": {
        "id": "jdwlGL1h5o22",
        "colab_type": "code",
        "outputId": "2fec496f-9e82-4278-a252-e047022d7588",
        "colab": {
          "base_uri": "https://localhost:8080/",
          "height": 272
        }
      },
      "source": [
        "plt.figure(figsize=(40, 4))\n",
        "for i in range(11):\n",
        "    # display original\n",
        "    ax = plt.subplot(3, 20, i + 1)\n",
        "    plt.imshow(X_val[i].reshape(28, 28))\n",
        "    plt.gray()\n",
        "    ax.get_xaxis().set_visible(False)\n",
        "    ax.get_yaxis().set_visible(False)\n",
        "    \n",
        "    # display encoded image\n",
        "    ax = plt.subplot(3, 20, i + 1 + 20)\n",
        "    plt.imshow(encoded_imgs[i].reshape(16,8))\n",
        "    plt.gray()\n",
        "    ax.get_xaxis().set_visible(False)\n",
        "    ax.get_yaxis().set_visible(False)\n",
        "    #display reconstruction\n",
        "    ax = plt.subplot(3, 20, 2*20 +i+ 1)\n",
        "    plt.imshow(predicted[i].reshape(28, 28))\n",
        "    plt.gray()\n",
        "    ax.get_xaxis().set_visible(False)\n",
        "    ax.get_yaxis().set_visible(False)\n",
        "    \n",
        "    \n",
        "plt.savefig(\"autoencoder_result.png\")    \n",
        "plt.show()"
      ],
      "execution_count": 72,
      "outputs": [
        {
          "output_type": "display_data",
          "data": {
            "image/png": "[encoded data removed]",
            "text/plain": [
              "<Figure size 2880x288 with 33 Axes>"
            ]
          },
          "metadata": {
            "tags": []
          }
        }
      ]
    },
    {
      "cell_type": "markdown",
      "metadata": {
        "id": "2GPWNA186E8x",
        "colab_type": "text"
      },
      "source": [
        "## Autoencoder + Classification Task"
      ]
    },
    {
      "cell_type": "code",
      "metadata": {
        "id": "6shIFTRR6ExU",
        "colab_type": "code",
        "colab": {}
      },
      "source": [
        "sgd = optimizers.SGD(lr=0.1, decay=1e-4, momentum=0.9, nesterov=True)\n",
        "input_img= Input(shape=(784,))\n",
        "def encoder(input_img):\n",
        "  encoded = Dense(256, activation = 'relu')(input_img)\n",
        "  encoded = Dense(128, activation='relu')(encoded)\n",
        "  return encoded\n",
        "\n",
        "def decoder(encoded):\n",
        "  decoded = Dense(784, activation='sigmoid')(encoded)\n",
        "  return decoded"
      ],
      "execution_count": 0,
      "outputs": []
    },
    {
      "cell_type": "code",
      "metadata": {
        "id": "jYz5QrmO6EuL",
        "colab_type": "code",
        "colab": {}
      },
      "source": [
        "autoencoder = Model(input_img, decoder(encoder(input_img)))\n",
        "autoencoder.compile(loss='binary_crossentropy', optimizer = sgd)\n",
        "autoencoder.summary()"
      ],
      "execution_count": 0,
      "outputs": []
    },
    {
      "cell_type": "code",
      "metadata": {
        "id": "CpX1fNtM6S_a",
        "colab_type": "code",
        "colab": {}
      },
      "source": [
        "autoencoder_train = autoencoder.fit(X_train,X_train,epochs=300,\n",
        "                batch_size=512,\n",
        "                shuffle = True,\n",
        "                validation_data=(X_val, X_val),verbose = 0)"
      ],
      "execution_count": 0,
      "outputs": []
    },
    {
      "cell_type": "code",
      "metadata": {
        "id": "dRASy5i155En",
        "colab_type": "code",
        "outputId": "103ff03d-7a08-467f-d849-2a7170f7d3a8",
        "colab": {
          "base_uri": "https://localhost:8080/",
          "height": 281
        }
      },
      "source": [
        "loss = autoencoder_train.history['loss']\n",
        "val_loss = autoencoder_train.history['val_loss']\n",
        "epochs = range(300)\n",
        "plt.figure()\n",
        "plt.plot(epochs, loss, 'b', color = 'blue', label='Training loss')\n",
        "plt.plot(epochs, val_loss, 'red', label='Validation loss')\n",
        "plt.title('Training and validation loss Autoencoder')\n",
        "plt.legend()\n",
        "plt.show()"
      ],
      "execution_count": 76,
      "outputs": [
        {
          "output_type": "display_data",
          "data": {
            "image/png": "[encoded data removed]",
            "text/plain": [
              "<Figure size 432x288 with 1 Axes>"
            ]
          },
          "metadata": {
            "tags": []
          }
        }
      ]
    },
    {
      "cell_type": "code",
      "metadata": {
        "id": "fM9arA5W55CJ",
        "colab_type": "code",
        "colab": {}
      },
      "source": [
        "autoencoder.save_weights('autoencoder.h5')"
      ],
      "execution_count": 0,
      "outputs": []
    },
    {
      "cell_type": "code",
      "metadata": {
        "id": "q81Rr4nx55AW",
        "colab_type": "code",
        "colab": {}
      },
      "source": [
        "encoder_label = LabelEncoder()\n",
        "encoder_label.fit(y_train)\n",
        "Y_train = encoder_label.transform(y_train)\n",
        "dummy_y = np_utils.to_categorical(Y_train)\n",
        "Y_val = encoder_label.transform(y_val)\n",
        "dummy_val = np_utils.to_categorical(Y_val)"
      ],
      "execution_count": 0,
      "outputs": []
    },
    {
      "cell_type": "code",
      "metadata": {
        "id": "9iHzTsem54-B",
        "colab_type": "code",
        "colab": {}
      },
      "source": [
        "from keras.regularizers import l1_l2\n",
        "def fc(enco):\n",
        "    den = Dense(128, activation='relu',kernel_regularizer=l1_l2(l1 = 0.0001, l2=0.01))(enco)\n",
        "    den = Dropout(0.4)(den)\n",
        "    den = Dense(64, activation = 'relu',kernel_regularizer=l1_l2(l1 = 0.0001, l2=0.01))(den)\n",
        "    den = Dropout(0.5)(den)\n",
        "    out = Dense(11, activation='softmax')(den)\n",
        "    return out"
      ],
      "execution_count": 0,
      "outputs": []
    },
    {
      "cell_type": "code",
      "metadata": {
        "id": "Swipx8xl5469",
        "colab_type": "code",
        "colab": {}
      },
      "source": [
        "encode = encoder(input_img)\n",
        "full_model = Model(input_img,fc(encode))"
      ],
      "execution_count": 0,
      "outputs": []
    },
    {
      "cell_type": "code",
      "metadata": {
        "id": "eNml8xof6Z_G",
        "colab_type": "code",
        "colab": {}
      },
      "source": [
        "for l1,l2 in zip(full_model.layers[:2],autoencoder.layers[0:2]):\n",
        "    l1.set_weights(l2.get_weights())\n",
        "for layer in full_model.layers[0:2]:\n",
        "    layer.trainable = False"
      ],
      "execution_count": 0,
      "outputs": []
    },
    {
      "cell_type": "code",
      "metadata": {
        "id": "2H3yXwdv6Z9c",
        "colab_type": "code",
        "colab": {}
      },
      "source": [
        "full_model.compile(loss=\"categorical_crossentropy\", optimizer=sgd,metrics=['accuracy'])"
      ],
      "execution_count": 0,
      "outputs": []
    },
    {
      "cell_type": "code",
      "metadata": {
        "id": "VthJ-Hu96Z7l",
        "colab_type": "code",
        "outputId": "3919911b-5804-4deb-8c39-75c6aa32ee1d",
        "colab": {
          "base_uri": "https://localhost:8080/",
          "height": 432
        }
      },
      "source": [
        "full_model.summary()"
      ],
      "execution_count": 94,
      "outputs": [
        {
          "output_type": "stream",
          "text": [
            "Model: \"model_16\"\n",
            "_________________________________________________________________\n",
            "Layer (type)                 Output Shape              Param #   \n",
            "=================================================================\n",
            "input_7 (InputLayer)         (None, 784)               0         \n",
            "_________________________________________________________________\n",
            "dense_43 (Dense)             (None, 256)               200960    \n",
            "_________________________________________________________________\n",
            "dense_44 (Dense)             (None, 128)               32896     \n",
            "_________________________________________________________________\n",
            "dense_45 (Dense)             (None, 128)               16512     \n",
            "_________________________________________________________________\n",
            "dropout_9 (Dropout)          (None, 128)               0         \n",
            "_________________________________________________________________\n",
            "dense_46 (Dense)             (None, 64)                8256      \n",
            "_________________________________________________________________\n",
            "dropout_10 (Dropout)         (None, 64)                0         \n",
            "_________________________________________________________________\n",
            "dense_47 (Dense)             (None, 11)                715       \n",
            "=================================================================\n",
            "Total params: 259,339\n",
            "Trainable params: 58,379\n",
            "Non-trainable params: 200,960\n",
            "_________________________________________________________________\n"
          ],
          "name": "stdout"
        }
      ]
    },
    {
      "cell_type": "code",
      "metadata": {
        "id": "ZmBPhPwu6Z4H",
        "colab_type": "code",
        "colab": {}
      },
      "source": [
        "classify_train = full_model.fit(X_train, dummy_y, epochs=200, batch_size=512,validation_data=(X_val,dummy_val), verbose=0)"
      ],
      "execution_count": 0,
      "outputs": []
    },
    {
      "cell_type": "code",
      "metadata": {
        "id": "5zXHQqi46ZwO",
        "colab_type": "code",
        "outputId": "bd8eec0c-76e3-4f28-8ea3-b9c69cebc031",
        "colab": {
          "base_uri": "https://localhost:8080/",
          "height": 281
        }
      },
      "source": [
        "accuracy = classify_train.history['acc']\n",
        "val_accuracy = classify_train.history['val_acc']\n",
        "loss = classify_train.history['loss']\n",
        "val_loss = classify_train.history['val_loss']\n",
        "epochs = range(len(accuracy))\n",
        "plt.plot(epochs, accuracy, 'b', color = 'red',label='Training accuracy')\n",
        "plt.plot(epochs, val_accuracy, 'b', label='Validation accuracy')\n",
        "plt.title('Training and validation accuracy NN with Autoencoder')\n",
        "plt.legend()\n",
        "plt.savefig(\"Class_autoenc_acc.png\")"
      ],
      "execution_count": 96,
      "outputs": [
        {
          "output_type": "display_data",
          "data": {
            "image/png": "[encoded data removed]",
            "text/plain": [
              "<Figure size 432x288 with 1 Axes>"
            ]
          },
          "metadata": {
            "tags": []
          }
        }
      ]
    },
    {
      "cell_type": "code",
      "metadata": {
        "id": "uqiICWGZz4_3",
        "colab_type": "code",
        "colab": {
          "base_uri": "https://localhost:8080/",
          "height": 281
        },
        "outputId": "ae62f21d-c0cf-41e5-fa19-db77fa8bbef6"
      },
      "source": [
        "plt.plot(epochs, loss, 'b',color ='red',label='Training loss')\n",
        "plt.plot(epochs, val_loss, 'b', label='Validation loss')\n",
        "plt.title('Training and validation loss NN with Autoencoder')\n",
        "plt.legend()\n",
        "plt.savefig(\"Class_autoenc_loss1.png\")"
      ],
      "execution_count": 97,
      "outputs": [
        {
          "output_type": "display_data",
          "data": {
            "image/png": "[encoded data removed]",
            "text/plain": [
              "<Figure size 432x288 with 1 Axes>"
            ]
          },
          "metadata": {
            "tags": []
          }
        }
      ]
    },
    {
      "cell_type": "code",
      "metadata": {
        "id": "RC8_Ch3h6njV",
        "colab_type": "code",
        "colab": {}
      },
      "source": [
        "y_pred_mod2 = full_model.predict(X_train)\n",
        "print(classification_report(np.argmax(dummy_y, axis = 1), np.argmax(y_pred_mod2, axis = 1)))"
      ],
      "execution_count": 0,
      "outputs": []
    },
    {
      "cell_type": "code",
      "metadata": {
        "id": "32s-FhKi6qai",
        "colab_type": "code",
        "colab": {}
      },
      "source": [
        "full_model.evaluate(X_train,dummy_y)"
      ],
      "execution_count": 0,
      "outputs": []
    },
    {
      "cell_type": "code",
      "metadata": {
        "id": "X7pURo3s6txT",
        "colab_type": "code",
        "colab": {}
      },
      "source": [
        "full_model.evaluate(X_val, dummy_val)"
      ],
      "execution_count": 0,
      "outputs": []
    },
    {
      "cell_type": "code",
      "metadata": {
        "id": "WqURBGkx6v79",
        "colab_type": "code",
        "colab": {}
      },
      "source": [
        "#full_model.load_weights('best_model2_autoencoder.h5')"
      ],
      "execution_count": 0,
      "outputs": []
    }
  ]
}